{
 "cells": [
  {
   "cell_type": "markdown",
   "metadata": {},
   "source": [
    "## Import libraries"
   ]
  },
  {
   "cell_type": "code",
   "execution_count": 1,
   "metadata": {},
   "outputs": [],
   "source": [
    "import warnings\n",
    "warnings.filterwarnings(\"ignore\")"
   ]
  },
  {
   "cell_type": "code",
   "execution_count": 2,
   "metadata": {},
   "outputs": [],
   "source": [
    "import numpy as np\n",
    "import pandas as pd\n",
    "import seaborn as sns\n",
    "import pickle\n",
    "import matplotlib.pyplot as plt\n",
    "from sklearn.preprocessing import LabelEncoder\n",
    "from sklearn.model_selection import train_test_split\n",
    "from sklearn.metrics import classification_report,confusion_matrix,accuracy_score,precision_recall_fscore_support\n",
    "from sklearn.metrics import f1_score,roc_auc_score\n",
    "from sklearn.ensemble import RandomForestClassifier,ExtraTreesClassifier\n",
    "from sklearn.tree import DecisionTreeClassifier\n",
    "from sklearn import preprocessing\n",
    "from sklearn.experimental import enable_hist_gradient_boosting \n",
    "from sklearn.ensemble import HistGradientBoostingClassifier\n",
    "from sklearn.model_selection import learning_curve  # For generating learning curves\n",
    "import joblib"
   ]
  },
  {
   "cell_type": "markdown",
   "metadata": {},
   "source": [
    "## Read IDS dataset"
   ]
  },
  {
   "cell_type": "code",
   "execution_count": 3,
   "metadata": {},
   "outputs": [],
   "source": [
    "#cd \"/scratch/project_2004883/Project 1/data/\""
   ]
  },
  {
   "cell_type": "code",
   "execution_count": 4,
   "metadata": {},
   "outputs": [],
   "source": [
    "#ls"
   ]
  },
  {
   "cell_type": "code",
   "execution_count": 5,
   "metadata": {},
   "outputs": [],
   "source": [
    "df = pd.read_csv('Multisine Waveforms.csv')"
   ]
  },
  {
   "cell_type": "code",
   "execution_count": 6,
   "metadata": {},
   "outputs": [
    {
     "data": {
      "text/plain": [
       "(750, 9)"
      ]
     },
     "execution_count": 6,
     "metadata": {},
     "output_type": "execute_result"
    }
   ],
   "source": [
    "df.shape "
   ]
  },
  {
   "cell_type": "code",
   "execution_count": 7,
   "metadata": {},
   "outputs": [
    {
     "data": {
      "text/html": [
       "<div>\n",
       "<style scoped>\n",
       "    .dataframe tbody tr th:only-of-type {\n",
       "        vertical-align: middle;\n",
       "    }\n",
       "\n",
       "    .dataframe tbody tr th {\n",
       "        vertical-align: top;\n",
       "    }\n",
       "\n",
       "    .dataframe thead th {\n",
       "        text-align: right;\n",
       "    }\n",
       "</style>\n",
       "<table border=\"1\" class=\"dataframe\">\n",
       "  <thead>\n",
       "    <tr style=\"text-align: right;\">\n",
       "      <th></th>\n",
       "      <th>ID</th>\n",
       "      <th>Tx100RSSId10cm</th>\n",
       "      <th>Tx100RSSId15cm</th>\n",
       "      <th>Tx100RSSId20cm</th>\n",
       "      <th>Tx75RSSId10cm</th>\n",
       "      <th>Tx75RSSId15cm</th>\n",
       "      <th>Tx75RSSId20cm</th>\n",
       "      <th>Tones</th>\n",
       "      <th>Indicator</th>\n",
       "    </tr>\n",
       "  </thead>\n",
       "  <tbody>\n",
       "    <tr>\n",
       "      <th>0</th>\n",
       "      <td>1</td>\n",
       "      <td>5.01</td>\n",
       "      <td>2.88</td>\n",
       "      <td>2.33</td>\n",
       "      <td>2.88</td>\n",
       "      <td>1.97</td>\n",
       "      <td>1.22</td>\n",
       "      <td>N2</td>\n",
       "      <td>0</td>\n",
       "    </tr>\n",
       "    <tr>\n",
       "      <th>1</th>\n",
       "      <td>2</td>\n",
       "      <td>5.01</td>\n",
       "      <td>3.03</td>\n",
       "      <td>2.22</td>\n",
       "      <td>2.88</td>\n",
       "      <td>1.74</td>\n",
       "      <td>1.22</td>\n",
       "      <td>N2</td>\n",
       "      <td>0</td>\n",
       "    </tr>\n",
       "    <tr>\n",
       "      <th>2</th>\n",
       "      <td>3</td>\n",
       "      <td>4.84</td>\n",
       "      <td>2.88</td>\n",
       "      <td>2.22</td>\n",
       "      <td>2.88</td>\n",
       "      <td>1.74</td>\n",
       "      <td>1.42</td>\n",
       "      <td>N2</td>\n",
       "      <td>0</td>\n",
       "    </tr>\n",
       "    <tr>\n",
       "      <th>3</th>\n",
       "      <td>4</td>\n",
       "      <td>5.01</td>\n",
       "      <td>3.03</td>\n",
       "      <td>2.08</td>\n",
       "      <td>3.03</td>\n",
       "      <td>2.08</td>\n",
       "      <td>1.42</td>\n",
       "      <td>N2</td>\n",
       "      <td>0</td>\n",
       "    </tr>\n",
       "    <tr>\n",
       "      <th>4</th>\n",
       "      <td>5</td>\n",
       "      <td>5.21</td>\n",
       "      <td>3.18</td>\n",
       "      <td>2.22</td>\n",
       "      <td>2.88</td>\n",
       "      <td>1.85</td>\n",
       "      <td>1.42</td>\n",
       "      <td>N2</td>\n",
       "      <td>0</td>\n",
       "    </tr>\n",
       "    <tr>\n",
       "      <th>...</th>\n",
       "      <td>...</td>\n",
       "      <td>...</td>\n",
       "      <td>...</td>\n",
       "      <td>...</td>\n",
       "      <td>...</td>\n",
       "      <td>...</td>\n",
       "      <td>...</td>\n",
       "      <td>...</td>\n",
       "      <td>...</td>\n",
       "    </tr>\n",
       "    <tr>\n",
       "      <th>745</th>\n",
       "      <td>746</td>\n",
       "      <td>0.91</td>\n",
       "      <td>0.46</td>\n",
       "      <td>0.24</td>\n",
       "      <td>0.37</td>\n",
       "      <td>0.37</td>\n",
       "      <td>0.13</td>\n",
       "      <td>N32</td>\n",
       "      <td>4</td>\n",
       "    </tr>\n",
       "    <tr>\n",
       "      <th>746</th>\n",
       "      <td>747</td>\n",
       "      <td>0.21</td>\n",
       "      <td>0.19</td>\n",
       "      <td>0.27</td>\n",
       "      <td>0.43</td>\n",
       "      <td>0.16</td>\n",
       "      <td>0.10</td>\n",
       "      <td>N32</td>\n",
       "      <td>4</td>\n",
       "    </tr>\n",
       "    <tr>\n",
       "      <th>747</th>\n",
       "      <td>748</td>\n",
       "      <td>0.31</td>\n",
       "      <td>0.24</td>\n",
       "      <td>0.16</td>\n",
       "      <td>0.12</td>\n",
       "      <td>0.10</td>\n",
       "      <td>0.22</td>\n",
       "      <td>N32</td>\n",
       "      <td>4</td>\n",
       "    </tr>\n",
       "    <tr>\n",
       "      <th>748</th>\n",
       "      <td>749</td>\n",
       "      <td>1.13</td>\n",
       "      <td>0.34</td>\n",
       "      <td>0.16</td>\n",
       "      <td>0.12</td>\n",
       "      <td>0.20</td>\n",
       "      <td>0.09</td>\n",
       "      <td>N32</td>\n",
       "      <td>4</td>\n",
       "    </tr>\n",
       "    <tr>\n",
       "      <th>749</th>\n",
       "      <td>750</td>\n",
       "      <td>1.13</td>\n",
       "      <td>0.30</td>\n",
       "      <td>0.18</td>\n",
       "      <td>0.43</td>\n",
       "      <td>0.30</td>\n",
       "      <td>0.24</td>\n",
       "      <td>N32</td>\n",
       "      <td>4</td>\n",
       "    </tr>\n",
       "  </tbody>\n",
       "</table>\n",
       "<p>750 rows × 9 columns</p>\n",
       "</div>"
      ],
      "text/plain": [
       "      ID  Tx100RSSId10cm   Tx100RSSId15cm    Tx100RSSId20cm   Tx75RSSId10cm   \\\n",
       "0      1             5.01             2.88              2.33            2.88   \n",
       "1      2             5.01             3.03              2.22            2.88   \n",
       "2      3             4.84             2.88              2.22            2.88   \n",
       "3      4             5.01             3.03              2.08            3.03   \n",
       "4      5             5.21             3.18              2.22            2.88   \n",
       "..   ...              ...              ...               ...             ...   \n",
       "745  746             0.91             0.46              0.24            0.37   \n",
       "746  747             0.21             0.19              0.27            0.43   \n",
       "747  748             0.31             0.24              0.16            0.12   \n",
       "748  749             1.13             0.34              0.16            0.12   \n",
       "749  750             1.13             0.30              0.18            0.43   \n",
       "\n",
       "     Tx75RSSId15cm    Tx75RSSId20cm  Tones  Indicator  \n",
       "0              1.97             1.22    N2          0  \n",
       "1              1.74             1.22    N2          0  \n",
       "2              1.74             1.42    N2          0  \n",
       "3              2.08             1.42    N2          0  \n",
       "4              1.85             1.42    N2          0  \n",
       "..              ...              ...   ...        ...  \n",
       "745            0.37             0.13   N32          4  \n",
       "746            0.16             0.10   N32          4  \n",
       "747            0.10             0.22   N32          4  \n",
       "748            0.20             0.09   N32          4  \n",
       "749            0.30             0.24   N32          4  \n",
       "\n",
       "[750 rows x 9 columns]"
      ]
     },
     "execution_count": 7,
     "metadata": {},
     "output_type": "execute_result"
    }
   ],
   "source": [
    "df"
   ]
  },
  {
   "cell_type": "code",
   "execution_count": 8,
   "metadata": {},
   "outputs": [
    {
     "name": "stdout",
     "output_type": "stream",
     "text": [
      "<class 'pandas.core.frame.DataFrame'>\n",
      "RangeIndex: 750 entries, 0 to 749\n",
      "Data columns (total 9 columns):\n",
      " #   Column            Non-Null Count  Dtype  \n",
      "---  ------            --------------  -----  \n",
      " 0   ID                750 non-null    int64  \n",
      " 1   Tx100RSSId10cm    750 non-null    float64\n",
      " 2   Tx100RSSId15cm    750 non-null    float64\n",
      " 3    Tx100RSSId20cm   750 non-null    float64\n",
      " 4   Tx75RSSId10cm     750 non-null    float64\n",
      " 5   Tx75RSSId15cm     750 non-null    float64\n",
      " 6    Tx75RSSId20cm    750 non-null    float64\n",
      " 7   Tones             750 non-null    object \n",
      " 8   Indicator         750 non-null    int64  \n",
      "dtypes: float64(6), int64(2), object(1)\n",
      "memory usage: 52.9+ KB\n"
     ]
    }
   ],
   "source": [
    "df.info()"
   ]
  },
  {
   "cell_type": "code",
   "execution_count": 9,
   "metadata": {},
   "outputs": [
    {
     "data": {
      "text/plain": [
       "0    150\n",
       "1    150\n",
       "2    150\n",
       "3    150\n",
       "4    150\n",
       "Name: Indicator, dtype: int64"
      ]
     },
     "execution_count": 9,
     "metadata": {},
     "output_type": "execute_result"
    }
   ],
   "source": [
    "df.Indicator.value_counts()"
   ]
  },
  {
   "cell_type": "code",
   "execution_count": 10,
   "metadata": {},
   "outputs": [],
   "source": [
    "df = df.drop(columns=['Tones'])"
   ]
  },
  {
   "cell_type": "code",
   "execution_count": 11,
   "metadata": {},
   "outputs": [],
   "source": [
    "# Min-max normalization\n",
    "numeric_features = df.dtypes[df.dtypes != 'object'].index\n",
    "df[numeric_features] = df[numeric_features].apply(\n",
    "    lambda x: (x - x.min()) / (x.max()-x.min()))\n",
    "# Fill empty values by 0\n",
    "df = df.fillna(0)"
   ]
  },
  {
   "cell_type": "code",
   "execution_count": 12,
   "metadata": {},
   "outputs": [],
   "source": [
    "labelencoder = LabelEncoder()\n",
    "df.iloc[:, -1] = labelencoder.fit_transform(df.iloc[:, -1])"
   ]
  },
  {
   "cell_type": "code",
   "execution_count": 13,
   "metadata": {},
   "outputs": [
    {
     "data": {
      "text/html": [
       "<div>\n",
       "<style scoped>\n",
       "    .dataframe tbody tr th:only-of-type {\n",
       "        vertical-align: middle;\n",
       "    }\n",
       "\n",
       "    .dataframe tbody tr th {\n",
       "        vertical-align: top;\n",
       "    }\n",
       "\n",
       "    .dataframe thead th {\n",
       "        text-align: right;\n",
       "    }\n",
       "</style>\n",
       "<table border=\"1\" class=\"dataframe\">\n",
       "  <thead>\n",
       "    <tr style=\"text-align: right;\">\n",
       "      <th></th>\n",
       "      <th>ID</th>\n",
       "      <th>Tx100RSSId10cm</th>\n",
       "      <th>Tx100RSSId15cm</th>\n",
       "      <th>Tx100RSSId20cm</th>\n",
       "      <th>Tx75RSSId10cm</th>\n",
       "      <th>Tx75RSSId15cm</th>\n",
       "      <th>Tx75RSSId20cm</th>\n",
       "      <th>Indicator</th>\n",
       "    </tr>\n",
       "  </thead>\n",
       "  <tbody>\n",
       "    <tr>\n",
       "      <th>0</th>\n",
       "      <td>0.000000</td>\n",
       "      <td>0.891344</td>\n",
       "      <td>0.900990</td>\n",
       "      <td>0.800000</td>\n",
       "      <td>0.863354</td>\n",
       "      <td>0.944724</td>\n",
       "      <td>0.733766</td>\n",
       "      <td>0</td>\n",
       "    </tr>\n",
       "    <tr>\n",
       "      <th>1</th>\n",
       "      <td>0.001335</td>\n",
       "      <td>0.891344</td>\n",
       "      <td>0.950495</td>\n",
       "      <td>0.760000</td>\n",
       "      <td>0.863354</td>\n",
       "      <td>0.829146</td>\n",
       "      <td>0.733766</td>\n",
       "      <td>0</td>\n",
       "    </tr>\n",
       "    <tr>\n",
       "      <th>2</th>\n",
       "      <td>0.002670</td>\n",
       "      <td>0.860037</td>\n",
       "      <td>0.900990</td>\n",
       "      <td>0.760000</td>\n",
       "      <td>0.863354</td>\n",
       "      <td>0.829146</td>\n",
       "      <td>0.863636</td>\n",
       "      <td>0</td>\n",
       "    </tr>\n",
       "    <tr>\n",
       "      <th>3</th>\n",
       "      <td>0.004005</td>\n",
       "      <td>0.891344</td>\n",
       "      <td>0.950495</td>\n",
       "      <td>0.709091</td>\n",
       "      <td>0.909938</td>\n",
       "      <td>1.000000</td>\n",
       "      <td>0.863636</td>\n",
       "      <td>0</td>\n",
       "    </tr>\n",
       "    <tr>\n",
       "      <th>4</th>\n",
       "      <td>0.005340</td>\n",
       "      <td>0.928177</td>\n",
       "      <td>1.000000</td>\n",
       "      <td>0.760000</td>\n",
       "      <td>0.863354</td>\n",
       "      <td>0.884422</td>\n",
       "      <td>0.863636</td>\n",
       "      <td>0</td>\n",
       "    </tr>\n",
       "    <tr>\n",
       "      <th>...</th>\n",
       "      <td>...</td>\n",
       "      <td>...</td>\n",
       "      <td>...</td>\n",
       "      <td>...</td>\n",
       "      <td>...</td>\n",
       "      <td>...</td>\n",
       "      <td>...</td>\n",
       "      <td>...</td>\n",
       "    </tr>\n",
       "    <tr>\n",
       "      <th>745</th>\n",
       "      <td>0.994660</td>\n",
       "      <td>0.136280</td>\n",
       "      <td>0.102310</td>\n",
       "      <td>0.040000</td>\n",
       "      <td>0.083851</td>\n",
       "      <td>0.140704</td>\n",
       "      <td>0.025974</td>\n",
       "      <td>4</td>\n",
       "    </tr>\n",
       "    <tr>\n",
       "      <th>746</th>\n",
       "      <td>0.995995</td>\n",
       "      <td>0.007366</td>\n",
       "      <td>0.013201</td>\n",
       "      <td>0.050909</td>\n",
       "      <td>0.102484</td>\n",
       "      <td>0.035176</td>\n",
       "      <td>0.006494</td>\n",
       "      <td>4</td>\n",
       "    </tr>\n",
       "    <tr>\n",
       "      <th>747</th>\n",
       "      <td>0.997330</td>\n",
       "      <td>0.025783</td>\n",
       "      <td>0.029703</td>\n",
       "      <td>0.010909</td>\n",
       "      <td>0.006211</td>\n",
       "      <td>0.005025</td>\n",
       "      <td>0.084416</td>\n",
       "      <td>4</td>\n",
       "    </tr>\n",
       "    <tr>\n",
       "      <th>748</th>\n",
       "      <td>0.998665</td>\n",
       "      <td>0.176796</td>\n",
       "      <td>0.062706</td>\n",
       "      <td>0.010909</td>\n",
       "      <td>0.006211</td>\n",
       "      <td>0.055276</td>\n",
       "      <td>0.000000</td>\n",
       "      <td>4</td>\n",
       "    </tr>\n",
       "    <tr>\n",
       "      <th>749</th>\n",
       "      <td>1.000000</td>\n",
       "      <td>0.176796</td>\n",
       "      <td>0.049505</td>\n",
       "      <td>0.018182</td>\n",
       "      <td>0.102484</td>\n",
       "      <td>0.105528</td>\n",
       "      <td>0.097403</td>\n",
       "      <td>4</td>\n",
       "    </tr>\n",
       "  </tbody>\n",
       "</table>\n",
       "<p>750 rows × 8 columns</p>\n",
       "</div>"
      ],
      "text/plain": [
       "           ID  Tx100RSSId10cm   Tx100RSSId15cm    Tx100RSSId20cm   \\\n",
       "0    0.000000         0.891344         0.900990          0.800000   \n",
       "1    0.001335         0.891344         0.950495          0.760000   \n",
       "2    0.002670         0.860037         0.900990          0.760000   \n",
       "3    0.004005         0.891344         0.950495          0.709091   \n",
       "4    0.005340         0.928177         1.000000          0.760000   \n",
       "..        ...              ...              ...               ...   \n",
       "745  0.994660         0.136280         0.102310          0.040000   \n",
       "746  0.995995         0.007366         0.013201          0.050909   \n",
       "747  0.997330         0.025783         0.029703          0.010909   \n",
       "748  0.998665         0.176796         0.062706          0.010909   \n",
       "749  1.000000         0.176796         0.049505          0.018182   \n",
       "\n",
       "     Tx75RSSId10cm   Tx75RSSId15cm    Tx75RSSId20cm   Indicator  \n",
       "0          0.863354        0.944724         0.733766          0  \n",
       "1          0.863354        0.829146         0.733766          0  \n",
       "2          0.863354        0.829146         0.863636          0  \n",
       "3          0.909938        1.000000         0.863636          0  \n",
       "4          0.863354        0.884422         0.863636          0  \n",
       "..              ...             ...              ...        ...  \n",
       "745        0.083851        0.140704         0.025974          4  \n",
       "746        0.102484        0.035176         0.006494          4  \n",
       "747        0.006211        0.005025         0.084416          4  \n",
       "748        0.006211        0.055276         0.000000          4  \n",
       "749        0.102484        0.105528         0.097403          4  \n",
       "\n",
       "[750 rows x 8 columns]"
      ]
     },
     "execution_count": 13,
     "metadata": {},
     "output_type": "execute_result"
    }
   ],
   "source": [
    "df"
   ]
  },
  {
   "cell_type": "code",
   "execution_count": 14,
   "metadata": {},
   "outputs": [
    {
     "data": {
      "text/plain": [
       "(750, 8)"
      ]
     },
     "execution_count": 14,
     "metadata": {},
     "output_type": "execute_result"
    }
   ],
   "source": [
    "df.shape"
   ]
  },
  {
   "cell_type": "code",
   "execution_count": 15,
   "metadata": {},
   "outputs": [
    {
     "data": {
      "text/plain": [
       "0    150\n",
       "1    150\n",
       "2    150\n",
       "3    150\n",
       "4    150\n",
       "Name: Indicator, dtype: int64"
      ]
     },
     "execution_count": 15,
     "metadata": {},
     "output_type": "execute_result"
    }
   ],
   "source": [
    "df.Indicator.value_counts()"
   ]
  },
  {
   "cell_type": "markdown",
   "metadata": {},
   "source": [
    "# Graphs"
   ]
  },
  {
   "cell_type": "code",
   "execution_count": 27,
   "metadata": {},
   "outputs": [],
   "source": [
    "from sklearn import preprocessing\n",
    "le = preprocessing.LabelEncoder()\n",
    "from sklearn.pipeline import Pipeline\n",
    "from sklearn.model_selection import StratifiedKFold\n",
    "from sklearn.model_selection import cross_val_score\n",
    "from sklearn.preprocessing import StandardScaler\n",
    "from sklearn.model_selection import learning_curve\n",
    "\n",
    "def learn_curve(X,y,c,m):\n",
    "    \n",
    "    le = preprocessing.LabelEncoder()\n",
    "    sc = StandardScaler() \n",
    "    y = le.fit_transform(y)\n",
    "\n",
    "    model = m\n",
    "\n",
    "    lr = Pipeline(steps=(['scaler',sc], ['classifier',model]))\n",
    "    \n",
    "    cv = StratifiedKFold(n_splits=5,random_state=11,shuffle=True) \n",
    "    cv_scores = cross_val_score(lr,X,y,scoring=\"accuracy\",cv=cv) \n",
    "    \n",
    "    lr.fit(X,y) \n",
    "\n",
    "    train_score = lr.score(X,y) \n",
    "    \n",
    "    train_size,train_scores,test_scores = learning_curve(estimator=lr,X=X,y=y,cv=cv,scoring=\"accuracy\",random_state=11)\n",
    "    train_scores = 1-np.mean(train_scores,axis=1) \n",
    "    test_scores = 1-np.mean(test_scores,axis=1) \n",
    "    lc = pd.DataFrame({\"Training_size\":train_size,\"Training_loss\":train_scores,\"Validation_loss\":test_scores}).melt(id_vars=\"Training_size\")\n",
    "    \n",
    "    return {\"cv_scores\":cv_scores, \"train_score\":train_score, \"learning_curve\":lc}"
   ]
  },
  {
   "cell_type": "code",
   "execution_count": 28,
   "metadata": {},
   "outputs": [],
   "source": [
    "def print_graph (lc):\n",
    "  \n",
    "    print(f'Cross Validation Accuracies:\\n{\"-\"*25}\\n{list(lc[\"cv_scores\"])}\\n\\n\\\n",
    "    Mean Cross Validation Accuracy:\\n{\"-\"*25}\\n{np.mean(lc[\"cv_scores\"])}\\n\\n\\\n",
    "    Standard Deviation of Cross Validation Accuracy:\\n{\"-\"*25}\\n{np.std(lc[\"cv_scores\"])}\\n\\n\\\n",
    "    Training Accuracy:\\n{\"-\"*15}\\n{lc[\"train_score\"]}\\n\\n')\n",
    "\n",
    "    sns.lineplot(data=lc[\"learning_curve\"],x=\"Training_size\",y=\"value\",hue=\"variable\")\n",
    "    plt.title(\"Learning Curve of a Good Fit Model\")\n",
    "    plt.ylabel(\"Misclassification Rate/Loss\");"
   ]
  },
  {
   "cell_type": "code",
   "execution_count": 18,
   "metadata": {},
   "outputs": [],
   "source": [
    "X = df.drop(['Indicator'],axis=1).values \n",
    "y = df.iloc[:, -1].values.reshape(-1,1)\n",
    "y=np.ravel(y)\n",
    "X_train, X_test, y_train, y_test = train_test_split(X,y, train_size = 0.5, test_size = 0.5, random_state = 0,stratify = y)"
   ]
  },
  {
   "cell_type": "markdown",
   "metadata": {},
   "source": [
    "# LogisticRegressionGD"
   ]
  },
  {
   "cell_type": "code",
   "execution_count": 50,
   "metadata": {},
   "outputs": [
    {
     "name": "stdout",
     "output_type": "stream",
     "text": [
      "Accuracy of LogisticRegression: 0.992\n",
      "Precision of LogisticRegression: 0.9923076923076923\n",
      "Recall of LogisticRegression: 0.992\n",
      "F1-score of LogisticRegression: 0.9919967987194878\n",
      "              precision    recall  f1-score   support\n",
      "\n",
      "           0       1.00      1.00      1.00        75\n",
      "           1       1.00      1.00      1.00        75\n",
      "           2       1.00      1.00      1.00        75\n",
      "           3       1.00      0.96      0.98        75\n",
      "           4       0.96      1.00      0.98        75\n",
      "\n",
      "    accuracy                           0.99       375\n",
      "   macro avg       0.99      0.99      0.99       375\n",
      "weighted avg       0.99      0.99      0.99       375\n",
      "\n"
     ]
    },
    {
     "data": {
      "image/png": "[encoded data removed]",
      "text/plain": [
       "<Figure size 360x360 with 2 Axes>"
      ]
     },
     "metadata": {
      "needs_background": "light"
     },
     "output_type": "display_data"
    },
    {
     "name": "stdout",
     "output_type": "stream",
     "text": [
      "Accuracy of LogisticRegression: 0.992\n",
      "Precision of LogisticRegression: 0.9923076923076923\n",
      "Recall of LogisticRegression: 0.992\n",
      "F1-score of LogisticRegression: 0.9919967987194878\n",
      "              precision    recall  f1-score   support\n",
      "\n",
      "           0       1.00      1.00      1.00        75\n",
      "           1       1.00      1.00      1.00        75\n",
      "           2       1.00      1.00      1.00        75\n",
      "           3       1.00      0.96      0.98        75\n",
      "           4       0.96      1.00      0.98        75\n",
      "\n",
      "    accuracy                           0.99       375\n",
      "   macro avg       0.99      0.99      0.99       375\n",
      "weighted avg       0.99      0.99      0.99       375\n",
      "\n",
      "Running time (training): 0.3115 seconds\n",
      "Total prediction time: 0.0000 seconds\n",
      "Average prediction time (per instance): 0.000047 seconds\n",
      "Prediction times for each instance: [0.000997304916381836, 0.0, 0.0, 0.0, 0.0, 0.0, 0.0, 0.0, 0.0, 0.0, 0.0, 0.0, 0.0, 0.0, 0.0, 0.0, 0.0, 0.0, 0.0, 0.0, 0.000997781753540039, 0.0, 0.0, 0.0, 0.0, 0.0, 0.0, 0.0, 0.0, 0.0, 0.0, 0.0, 0.0, 0.0, 0.0, 0.0, 0.0, 0.0, 0.0, 0.0, 0.0, 0.000997781753540039, 0.0, 0.0, 0.0, 0.0, 0.0, 0.0, 0.0, 0.0, 0.0, 0.0, 0.0, 0.0, 0.0, 0.0, 0.0, 0.0, 0.0, 0.0, 0.0, 0.0, 0.0, 0.0009968280792236328, 0.0, 0.0, 0.0, 0.0, 0.0, 0.0, 0.0, 0.0, 0.0, 0.0, 0.0, 0.0, 0.0, 0.0, 0.0, 0.0, 0.0, 0.0, 0.0, 0.0, 0.0, 0.0, 0.0009975433349609375, 0.0, 0.0, 0.0, 0.0, 0.0, 0.0, 0.0, 0.0, 0.0, 0.0, 0.0, 0.0, 0.0, 0.0, 0.0, 0.0, 0.0, 0.0, 0.0, 0.0, 0.0, 0.0, 0.0009970664978027344, 0.0, 0.0, 0.0, 0.0, 0.0, 0.0, 0.0, 0.0, 0.0, 0.0, 0.0, 0.0, 0.0, 0.0, 0.0, 0.0, 0.0, 0.0, 0.0, 0.0, 0.0, 0.000997304916381836, 0.0, 0.0, 0.0, 0.0, 0.0, 0.0, 0.0, 0.0, 0.0, 0.0, 0.0, 0.0, 0.0, 0.0, 0.0, 0.0, 0.0, 0.0, 0.0, 0.0009980201721191406, 6.008148193359375e-05, 0.0, 0.0, 0.0, 0.0, 0.0, 0.0, 0.0005042552947998047, 0.0, 0.0, 0.0, 0.0, 0.0, 0.0, 0.0, 0.0, 0.0, 0.0, 0.0, 0.0, 0.0, 0.0, 0.0, 0.0, 0.0, 0.0, 0.0, 0.0, 0.0, 0.0009992122650146484, 0.0, 0.0, 0.0, 0.0, 0.0, 0.0, 0.0, 0.0, 0.0, 0.0, 0.0, 0.0, 0.0, 0.0, 0.0, 0.0, 0.0, 0.0, 0.0, 0.0, 0.0, 0.0, 0.0009970664978027344, 0.0, 0.0, 0.0, 0.0, 0.0, 0.0, 0.0, 0.0, 0.0, 0.0, 0.0, 0.0, 0.0, 0.0, 0.0, 0.0, 0.0, 0.0, 0.0, 0.0, 0.0, 0.0, 0.0009975433349609375, 0.0, 0.0, 0.0, 0.0, 0.0, 0.0, 0.0, 0.0, 0.0, 0.0, 0.0, 0.0, 0.0, 0.0, 0.0, 0.0, 0.0, 0.0, 0.0, 0.0, 0.0, 0.0, 0.000997781753540039, 0.0, 0.0, 0.0, 0.0, 0.0, 0.0, 0.0, 0.0, 0.0, 0.0, 0.0, 0.0, 0.0, 0.0, 0.0, 0.0, 0.0, 0.0, 0.0, 0.0, 0.0, 0.0, 0.0009970664978027344, 0.0, 0.0, 0.0, 0.0, 0.0, 0.0, 0.0, 0.0, 0.0, 0.0, 0.0, 0.0, 0.0, 0.0, 0.0, 0.0, 0.0, 0.0, 0.0, 0.0, 0.0, 0.0009975433349609375, 0.0, 0.0, 0.0, 0.0, 0.0, 0.0, 0.0, 0.0, 0.0, 0.0, 0.0, 0.0, 0.0, 0.0, 0.0, 0.0, 0.0, 0.0, 0.0, 0.0, 0.0, 0.0, 0.0009970664978027344, 0.0, 0.0, 0.0, 0.0, 0.0, 0.0, 0.0, 0.0, 0.0, 0.0, 0.0, 0.0, 0.0, 0.0, 0.0, 0.0, 0.0, 0.0, 0.0, 0.0, 0.0, 0.0, 0.0009968280792236328, 0.0, 0.0, 0.0, 0.0, 0.0, 0.0, 0.0, 0.0, 0.0, 0.0, 0.0, 0.0, 0.0, 0.0, 0.0, 0.0, 0.0, 0.0, 0.0, 0.0, 0.0, 0.000997304916381836, 0.0, 0.0, 0.0, 0.0, 0.0, 0.0, 0.0, 0.0, 0.0, 0.0, 0.0]\n"
     ]
    }
   ],
   "source": [
    "import time\n",
    "from sklearn.linear_model import LogisticRegression\n",
    "from sklearn.metrics import precision_recall_fscore_support, classification_report\n",
    "\n",
    "# Start timer for running time (model training)\n",
    "start_train_time = time.time()\n",
    "\n",
    "# Model training\n",
    "LogisticRegression = LogisticRegression()\n",
    "LogisticRegression.fit(X_train, y_train)\n",
    "\n",
    "LogisticRegression_score=LogisticRegression.score(X_test,y_test)\n",
    "\n",
    "y_predict=LogisticRegression.predict(X_test)\n",
    "y_true=y_test\n",
    "print('Accuracy of LogisticRegression: '+ str(LogisticRegression_score))\n",
    "precision,recall,fscore,none= precision_recall_fscore_support(y_true, y_predict, average='weighted') \n",
    "print('Precision of LogisticRegression: '+(str(precision)))\n",
    "print('Recall of LogisticRegression: '+(str(recall)))\n",
    "print('F1-score of LogisticRegression: '+(str(fscore)))\n",
    "print(classification_report(y_true,y_predict))\n",
    "cm=confusion_matrix(y_true,y_predict)\n",
    "f,ax=plt.subplots(figsize=(5,5))\n",
    "sns.heatmap(cm,annot=True,linewidth=0.5,linecolor=\"red\",fmt=\".0f\",ax=ax)\n",
    "plt.xlabel(\"y_pred\")\n",
    "plt.ylabel(\"y_true\")\n",
    "plt.show()\n",
    "\n",
    "# End timer for running time (model training)\n",
    "end_train_time = time.time()\n",
    "running_time = end_train_time - start_train_time\n",
    "\n",
    "# Measure total prediction time for all instances\n",
    "start_predict_time = time.time()\n",
    "y_predict = LogisticRegression.predict(X_test)\n",
    "end_predict_time = time.time()\n",
    "prediction_time = end_predict_time - start_predict_time\n",
    "\n",
    "# Measure time taken for each individual prediction (prediction through time)\n",
    "individual_prediction_times = []\n",
    "for sample in X_test:\n",
    "    start_time = time.time()\n",
    "    LogisticRegression.predict([sample])  # Predicting a single sample, note the input must be 2D (list of list)\n",
    "    end_time = time.time()\n",
    "    individual_prediction_times.append(end_time - start_time)\n",
    "\n",
    "# Model accuracy\n",
    "LogisticRegression_score = LogisticRegression.score(X_test, y_test)\n",
    "y_true = y_test\n",
    "\n",
    "# Print metrics\n",
    "print('Accuracy of LogisticRegression: ' + str(LogisticRegression_score))\n",
    "precision, recall, fscore, _ = precision_recall_fscore_support(y_true, y_predict, average='weighted')\n",
    "print('Precision of LogisticRegression: ' + str(precision))\n",
    "print('Recall of LogisticRegression: ' + str(recall))\n",
    "print('F1-score of LogisticRegression: ' + str(fscore))\n",
    "print(classification_report(y_true, y_predict))\n",
    "\n",
    "# Calculate average prediction time for each instance\n",
    "average_prediction_time = sum(individual_prediction_times) / len(individual_prediction_times)\n",
    "\n",
    "# Print timing results\n",
    "print('Running time (training): {:.4f} seconds'.format(running_time))\n",
    "print('Total prediction time: {:.4f} seconds'.format(prediction_time))\n",
    "print('Average prediction time (per instance): {:.6f} seconds'.format(average_prediction_time))\n",
    "print('Prediction times for each instance: {}'.format(individual_prediction_times))"
   ]
  },
  {
   "cell_type": "code",
   "execution_count": 51,
   "metadata": {},
   "outputs": [
    {
     "data": {
      "text/plain": [
       "['LogisticRegression.joblib']"
      ]
     },
     "execution_count": 51,
     "metadata": {},
     "output_type": "execute_result"
    }
   ],
   "source": [
    "joblib.dump(LogisticRegression, 'LogisticRegression.joblib')"
   ]
  },
  {
   "cell_type": "code",
   "execution_count": 55,
   "metadata": {},
   "outputs": [
    {
     "data": {
      "text/plain": [
       "<Figure size 432x288 with 0 Axes>"
      ]
     },
     "metadata": {},
     "output_type": "display_data"
    },
    {
     "data": {
      "image/png": "[encoded data removed]",
      "text/plain": [
       "<Figure size 576x432 with 1 Axes>"
      ]
     },
     "metadata": {
      "needs_background": "light"
     },
     "output_type": "display_data"
    }
   ],
   "source": [
    "def print_graph(lc):\n",
    "    import matplotlib.pyplot as plt\n",
    "    import numpy as np\n",
    "    import seaborn as sns\n",
    "    from matplotlib import rcParams\n",
    "\n",
    "    # Set font style to sans-serif (e.g., Arial)\n",
    "    rcParams['font.family'] = 'sans-serif'\n",
    "    rcParams['font.sans-serif'] = ['Arial']\n",
    "\n",
    "    # Extract learning curve data\n",
    "    learning_curve_data = lc[\"learning_curve\"]\n",
    "    train_data = learning_curve_data[learning_curve_data[\"variable\"] == \"Training_loss\"]\n",
    "    val_data = learning_curve_data[learning_curve_data[\"variable\"] == \"Validation_loss\"]\n",
    "\n",
    "    # Plotting\n",
    "    plt.figure(figsize=(8, 6))\n",
    "\n",
    "    # Plot training and validation errors with red and green lines\n",
    "    plt.plot(train_data[\"Training_size\"], train_data[\"value\"], 'r-s', label='Training error')\n",
    "    plt.plot(val_data[\"Training_size\"], val_data[\"value\"], 'g-o', label='Cross-validation error')\n",
    "\n",
    "    # Customize axis limits\n",
    "    plt.ylim(-0.01, None)  # Ensure y-axis starts at 0.00\n",
    "    plt.xlim(train_data[\"Training_size\"].min(), 310)  # Extend x-axis to 310\n",
    "\n",
    "    # Customize axis labels and title\n",
    "    plt.xlabel('Training size', fontsize=14)\n",
    "    plt.ylabel('Misclassification Rate/Loss', fontsize=14)\n",
    "    plt.legend(fontsize=12)\n",
    "    plt.title('Learning Curve of a Good Fit Model', fontsize=14)\n",
    "    plt.grid(True)\n",
    "\n",
    "    # Display plot\n",
    "    plt.tight_layout()\n",
    "    plt.show()\n",
    "    # Save the plot in different formats\n",
    "# Save as vector graphics (PDF)\n",
    "plt.savefig('LogisticRegression_learning_curve22.pdf', format='pdf', dpi=300)\n",
    "# Save as vector graphics (EPS)\n",
    "plt.savefig('LogisticRegression_learning_curve22.eps', format='eps', dpi=300)\n",
    "\n",
    "# Save as vector graphics (SVG)\n",
    "plt.savefig('LogisticRegression_learning_curve22.svg', format='svg')\n",
    "\n",
    "# Save as raster graphics (PNG) with high resolution\n",
    "plt.savefig('LogisticRegression_learning_curve22.png', format='png', dpi=300)\n",
    "\n",
    "\n",
    "# Example of calling this function after generating `lc`\n",
    "print_graph(lc)"
   ]
  },
  {
   "cell_type": "code",
   "execution_count": 53,
   "metadata": {},
   "outputs": [
    {
     "data": {
      "text/plain": [
       "<Figure size 432x288 with 0 Axes>"
      ]
     },
     "metadata": {},
     "output_type": "display_data"
    }
   ],
   "source": [
    "# Save the plot in different formats\n",
    "# Save as vector graphics (PDF)\n",
    "plt.savefig('LogisticRegression_learning_curve22.pdf', format='pdf', dpi=300)\n",
    "# Save as vector graphics (EPS)\n",
    "plt.savefig('LogisticRegression_learning_curve22.eps', format='eps', dpi=300)\n",
    "\n",
    "# Save as vector graphics (SVG)\n",
    "plt.savefig('LogisticRegression_learning_curve22.svg', format='svg')\n",
    "\n",
    "# Save as raster graphics (PNG) with high resolution\n",
    "plt.savefig('LogisticRegression_learning_curve22.png', format='png', dpi=300)"
   ]
  },
  {
   "cell_type": "markdown",
   "metadata": {},
   "source": [
    "# Testing On Multisine_Waveforms_V2.csv (Unseen dataset) "
   ]
  },
  {
   "cell_type": "code",
   "execution_count": 35,
   "metadata": {},
   "outputs": [],
   "source": [
    "df_new = pd.read_csv('Multisine_Waveforms_V2.csv')"
   ]
  },
  {
   "cell_type": "code",
   "execution_count": 36,
   "metadata": {},
   "outputs": [
    {
     "data": {
      "text/html": [
       "<div>\n",
       "<style scoped>\n",
       "    .dataframe tbody tr th:only-of-type {\n",
       "        vertical-align: middle;\n",
       "    }\n",
       "\n",
       "    .dataframe tbody tr th {\n",
       "        vertical-align: top;\n",
       "    }\n",
       "\n",
       "    .dataframe thead th {\n",
       "        text-align: right;\n",
       "    }\n",
       "</style>\n",
       "<table border=\"1\" class=\"dataframe\">\n",
       "  <thead>\n",
       "    <tr style=\"text-align: right;\">\n",
       "      <th></th>\n",
       "      <th>ID</th>\n",
       "      <th>Tx90RSSId25cm</th>\n",
       "      <th>Tx90RSSId30cm</th>\n",
       "      <th>Tx90RSSId35cm</th>\n",
       "      <th>Tx65RSSId25cm</th>\n",
       "      <th>Tx65RSSId30cm</th>\n",
       "      <th>Tx65RSSId35cm</th>\n",
       "      <th>Indicator</th>\n",
       "    </tr>\n",
       "  </thead>\n",
       "  <tbody>\n",
       "    <tr>\n",
       "      <th>0</th>\n",
       "      <td>1</td>\n",
       "      <td>1.37</td>\n",
       "      <td>0.70</td>\n",
       "      <td>0.78</td>\n",
       "      <td>0.82</td>\n",
       "      <td>0.60</td>\n",
       "      <td>0.52</td>\n",
       "      <td>0</td>\n",
       "    </tr>\n",
       "    <tr>\n",
       "      <th>1</th>\n",
       "      <td>2</td>\n",
       "      <td>1.37</td>\n",
       "      <td>0.74</td>\n",
       "      <td>0.78</td>\n",
       "      <td>0.91</td>\n",
       "      <td>0.63</td>\n",
       "      <td>0.56</td>\n",
       "      <td>0</td>\n",
       "    </tr>\n",
       "    <tr>\n",
       "      <th>2</th>\n",
       "      <td>3</td>\n",
       "      <td>1.27</td>\n",
       "      <td>0.91</td>\n",
       "      <td>0.86</td>\n",
       "      <td>0.95</td>\n",
       "      <td>0.67</td>\n",
       "      <td>0.49</td>\n",
       "      <td>0</td>\n",
       "    </tr>\n",
       "    <tr>\n",
       "      <th>3</th>\n",
       "      <td>4</td>\n",
       "      <td>1.37</td>\n",
       "      <td>1.01</td>\n",
       "      <td>0.82</td>\n",
       "      <td>1.01</td>\n",
       "      <td>0.67</td>\n",
       "      <td>0.49</td>\n",
       "      <td>0</td>\n",
       "    </tr>\n",
       "    <tr>\n",
       "      <th>4</th>\n",
       "      <td>5</td>\n",
       "      <td>1.42</td>\n",
       "      <td>0.91</td>\n",
       "      <td>0.86</td>\n",
       "      <td>0.82</td>\n",
       "      <td>0.70</td>\n",
       "      <td>0.49</td>\n",
       "      <td>0</td>\n",
       "    </tr>\n",
       "    <tr>\n",
       "      <th>...</th>\n",
       "      <td>...</td>\n",
       "      <td>...</td>\n",
       "      <td>...</td>\n",
       "      <td>...</td>\n",
       "      <td>...</td>\n",
       "      <td>...</td>\n",
       "      <td>...</td>\n",
       "      <td>...</td>\n",
       "    </tr>\n",
       "    <tr>\n",
       "      <th>745</th>\n",
       "      <td>746</td>\n",
       "      <td>0.12</td>\n",
       "      <td>0.21</td>\n",
       "      <td>0.26</td>\n",
       "      <td>0.09</td>\n",
       "      <td>0.12</td>\n",
       "      <td>0.13</td>\n",
       "      <td>4</td>\n",
       "    </tr>\n",
       "    <tr>\n",
       "      <th>746</th>\n",
       "      <td>747</td>\n",
       "      <td>0.13</td>\n",
       "      <td>0.10</td>\n",
       "      <td>0.10</td>\n",
       "      <td>0.20</td>\n",
       "      <td>0.19</td>\n",
       "      <td>0.09</td>\n",
       "      <td>4</td>\n",
       "    </tr>\n",
       "    <tr>\n",
       "      <th>747</th>\n",
       "      <td>748</td>\n",
       "      <td>0.12</td>\n",
       "      <td>0.12</td>\n",
       "      <td>0.12</td>\n",
       "      <td>0.26</td>\n",
       "      <td>0.09</td>\n",
       "      <td>0.09</td>\n",
       "      <td>4</td>\n",
       "    </tr>\n",
       "    <tr>\n",
       "      <th>748</th>\n",
       "      <td>749</td>\n",
       "      <td>0.15</td>\n",
       "      <td>0.13</td>\n",
       "      <td>0.12</td>\n",
       "      <td>0.10</td>\n",
       "      <td>0.09</td>\n",
       "      <td>0.10</td>\n",
       "      <td>4</td>\n",
       "    </tr>\n",
       "    <tr>\n",
       "      <th>749</th>\n",
       "      <td>750</td>\n",
       "      <td>0.10</td>\n",
       "      <td>0.10</td>\n",
       "      <td>0.09</td>\n",
       "      <td>0.19</td>\n",
       "      <td>0.09</td>\n",
       "      <td>0.12</td>\n",
       "      <td>4</td>\n",
       "    </tr>\n",
       "  </tbody>\n",
       "</table>\n",
       "<p>750 rows × 8 columns</p>\n",
       "</div>"
      ],
      "text/plain": [
       "      ID  Tx90RSSId25cm   Tx90RSSId30cm    Tx90RSSId35cm   Tx65RSSId25cm   \\\n",
       "0      1            1.37            0.70             0.78            0.82   \n",
       "1      2            1.37            0.74             0.78            0.91   \n",
       "2      3            1.27            0.91             0.86            0.95   \n",
       "3      4            1.37            1.01             0.82            1.01   \n",
       "4      5            1.42            0.91             0.86            0.82   \n",
       "..   ...             ...             ...              ...             ...   \n",
       "745  746            0.12            0.21             0.26            0.09   \n",
       "746  747            0.13            0.10             0.10            0.20   \n",
       "747  748            0.12            0.12             0.12            0.26   \n",
       "748  749            0.15            0.13             0.12            0.10   \n",
       "749  750            0.10            0.10             0.09            0.19   \n",
       "\n",
       "     Tx65RSSId30cm    Tx65RSSId35cm   Indicator  \n",
       "0              0.60             0.52          0  \n",
       "1              0.63             0.56          0  \n",
       "2              0.67             0.49          0  \n",
       "3              0.67             0.49          0  \n",
       "4              0.70             0.49          0  \n",
       "..              ...              ...        ...  \n",
       "745            0.12             0.13          4  \n",
       "746            0.19             0.09          4  \n",
       "747            0.09             0.09          4  \n",
       "748            0.09             0.10          4  \n",
       "749            0.09             0.12          4  \n",
       "\n",
       "[750 rows x 8 columns]"
      ]
     },
     "execution_count": 36,
     "metadata": {},
     "output_type": "execute_result"
    }
   ],
   "source": [
    "df_new"
   ]
  },
  {
   "cell_type": "code",
   "execution_count": 37,
   "metadata": {},
   "outputs": [],
   "source": [
    "# Min-max normalization\n",
    "numeric_features = df_new.dtypes[df_new.dtypes != 'object'].index\n",
    "df_new[numeric_features] = df_new[numeric_features].apply(\n",
    "    lambda x: (x - x.min()) / (x.max()-x.min()))\n",
    "# Fill empty values by 0\n",
    "df_new = df_new.fillna(0)"
   ]
  },
  {
   "cell_type": "code",
   "execution_count": 38,
   "metadata": {},
   "outputs": [],
   "source": [
    "labelencoder = LabelEncoder()\n",
    "df_new.iloc[:, -1] = labelencoder.fit_transform(df_new.iloc[:, -1])"
   ]
  },
  {
   "cell_type": "code",
   "execution_count": 39,
   "metadata": {},
   "outputs": [
    {
     "name": "stdout",
     "output_type": "stream",
     "text": [
      "         ID  Tx90RSSId25cm   Tx90RSSId30cm    Tx90RSSId35cm   Tx65RSSId25cm   \\\n",
      "0  0.000000        0.831169        0.458647         0.750000        0.768421   \n",
      "1  0.001335        0.831169        0.488722         0.750000        0.863158   \n",
      "2  0.002670        0.766234        0.616541         0.836957        0.905263   \n",
      "3  0.004005        0.831169        0.691729         0.793478        0.968421   \n",
      "4  0.005340        0.863636        0.616541         0.836957        0.768421   \n",
      "\n",
      "   Tx65RSSId30cm    Tx65RSSId35cm   \n",
      "0        0.836066         0.796296  \n",
      "1        0.885246         0.870370  \n",
      "2        0.950820         0.740741  \n",
      "3        0.950820         0.740741  \n",
      "4        1.000000         0.740741  \n",
      "0    0\n",
      "1    0\n",
      "2    0\n",
      "3    0\n",
      "4    0\n",
      "Name: Indicator, dtype: int64\n"
     ]
    }
   ],
   "source": [
    "# Assuming the last column is the label (y) and the rest are features (X)\n",
    "X_new = df_new.drop('Indicator', axis=1)  # Replace 'label_column' with the actual column name for labels\n",
    "y_new = df_new['Indicator']  # Replace 'label_column' with the actual column name for labels\n",
    "\n",
    "print(X_new.head())  # Display the first few rows of features\n",
    "print(y_new.head())  # Display the first few rows of labels"
   ]
  },
  {
   "cell_type": "code",
   "execution_count": 40,
   "metadata": {},
   "outputs": [],
   "source": [
    "LogisticRegression_loaded = joblib.load('LogisticRegression.joblib')"
   ]
  },
  {
   "cell_type": "code",
   "execution_count": 41,
   "metadata": {},
   "outputs": [
    {
     "data": {
      "text/plain": [
       "0    150\n",
       "1    150\n",
       "2    150\n",
       "3    150\n",
       "4    150\n",
       "Name: Indicator, dtype: int64"
      ]
     },
     "execution_count": 41,
     "metadata": {},
     "output_type": "execute_result"
    }
   ],
   "source": [
    "df_new.Indicator.value_counts()"
   ]
  },
  {
   "cell_type": "code",
   "execution_count": 42,
   "metadata": {},
   "outputs": [],
   "source": [
    "# Predict on the entire new dataset\n",
    "y_pred_new = LogisticRegression_loaded.predict(X_new)"
   ]
  },
  {
   "cell_type": "code",
   "execution_count": 43,
   "metadata": {},
   "outputs": [],
   "source": [
    "# Predict on the entire new dataset\n",
    "y_pred_new = LogisticRegression_loaded.predict(X_new)"
   ]
  },
  {
   "cell_type": "code",
   "execution_count": 48,
   "metadata": {},
   "outputs": [
    {
     "name": "stdout",
     "output_type": "stream",
     "text": [
      "Accuracy on new dataset: 0.8266666666666667\n",
      "Precision on new dataset: 0.8719948247471184\n",
      "Recall on new dataset: 0.8266666666666667\n",
      "F1-score on new dataset: 0.8121561069150394\n",
      "Classification Report:\n",
      "               precision    recall  f1-score   support\n",
      "\n",
      "           0       1.00      1.00      1.00       150\n",
      "           1       1.00      1.00      1.00       150\n",
      "           2       0.98      0.34      0.50       150\n",
      "           3       0.55      0.79      0.65       150\n",
      "           4       0.83      1.00      0.91       150\n",
      "\n",
      "    accuracy                           0.83       750\n",
      "   macro avg       0.87      0.83      0.81       750\n",
      "weighted avg       0.87      0.83      0.81       750\n",
      "\n"
     ]
    },
    {
     "data": {
      "image/png": "[encoded data removed]",
      "text/plain": [
       "<Figure size 360x360 with 2 Axes>"
      ]
     },
     "metadata": {
      "needs_background": "light"
     },
     "output_type": "display_data"
    },
    {
     "name": "stdout",
     "output_type": "stream",
     "text": [
      "Total Prediction Time for the full dataset: 0.26360273361206055 seconds\n",
      "Prediction Time per Attack: 0.00035 seconds\n"
     ]
    }
   ],
   "source": [
    "import time\n",
    "from sklearn.metrics import accuracy_score, precision_recall_fscore_support, classification_report, confusion_matrix\n",
    "import matplotlib.pyplot as plt\n",
    "import seaborn as sns\n",
    "\n",
    "\n",
    "# Start time for prediction (time taken for the model to predict on the new dataset)\n",
    "start_prediction_time = time.time()\n",
    "\n",
    "# Calculate accuracy\n",
    "accuracy_new = accuracy_score(y_new, y_pred_new)\n",
    "print(\"Accuracy on new dataset:\", accuracy_new)\n",
    "\n",
    "# Calculate precision, recall, and F1-score (weighted average)\n",
    "precision, recall, fscore, _ = precision_recall_fscore_support(y_new, y_pred_new, average='weighted')\n",
    "print('Precision on new dataset:', precision)\n",
    "print('Recall on new dataset:', recall)\n",
    "print('F1-score on new dataset:', fscore)\n",
    "\n",
    "# Print classification report\n",
    "print(\"Classification Report:\\n\", classification_report(y_new, y_pred_new))\n",
    "\n",
    "# Confusion matrix\n",
    "cm = confusion_matrix(y_new, y_pred_new)\n",
    "f, ax = plt.subplots(figsize=(5, 5))\n",
    "sns.heatmap(cm, annot=True, linewidth=0.5, linecolor=\"red\", fmt=\".0f\", ax=ax)\n",
    "plt.xlabel(\"Predicted labels\")\n",
    "plt.ylabel(\"True labels\")\n",
    "plt.show()\n",
    "\n",
    "# End time for prediction\n",
    "prediction_time = time.time() - start_prediction_time\n",
    "print(\"Total Prediction Time for the full dataset:\", prediction_time, \"seconds\")\n",
    "\n",
    "# Time per prediction (prediction per attack)\n",
    "prediction_per_attack = prediction_time / len(y_new)\n",
    "print(f\"Prediction Time per Attack: {prediction_per_attack:.5f} seconds\")"
   ]
  },
  {
   "cell_type": "code",
   "execution_count": null,
   "metadata": {},
   "outputs": [],
   "source": []
  }
 ],
 "metadata": {
  "anaconda-cloud": {},
  "kernelspec": {
   "display_name": "Python 3",
   "language": "python",
   "name": "python3"
  },
  "language_info": {
   "codemirror_mode": {
    "name": "ipython",
    "version": 3
   },
   "file_extension": ".py",
   "mimetype": "text/x-python",
   "name": "python",
   "nbconvert_exporter": "python",
   "pygments_lexer": "ipython3",
   "version": "3.8.8"
  }
 },
 "nbformat": 4,
 "nbformat_minor": 2
}
