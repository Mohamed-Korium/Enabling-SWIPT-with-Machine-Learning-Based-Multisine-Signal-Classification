{
 "cells": [
  {
   "cell_type": "markdown",
   "metadata": {},
   "source": [
    "## Import libraries"
   ]
  },
  {
   "cell_type": "code",
   "execution_count": 1,
   "metadata": {},
   "outputs": [],
   "source": [
    "import warnings\n",
    "warnings.filterwarnings(\"ignore\")"
   ]
  },
  {
   "cell_type": "code",
   "execution_count": 2,
   "metadata": {},
   "outputs": [],
   "source": [
    "import numpy as np\n",
    "import time\n",
    "import pandas as pd\n",
    "import seaborn as sns\n",
    "import pickle\n",
    "import matplotlib.pyplot as plt\n",
    "\n",
    "from sklearn.preprocessing import LabelEncoder\n",
    "from sklearn.model_selection import train_test_split\n",
    "from sklearn.metrics import classification_report,confusion_matrix,accuracy_score,precision_recall_fscore_support\n",
    "from sklearn.metrics import f1_score,roc_auc_score\n",
    "from sklearn.ensemble import RandomForestClassifier,ExtraTreesClassifier\n",
    "from sklearn.tree import DecisionTreeClassifier\n",
    "from sklearn import preprocessing\n",
    "from sklearn.experimental import enable_hist_gradient_boosting \n",
    "from sklearn.ensemble import HistGradientBoostingClassifier"
   ]
  },
  {
   "cell_type": "markdown",
   "metadata": {},
   "source": [
    "## Read IDS dataset"
   ]
  },
  {
   "cell_type": "code",
   "execution_count": 11,
   "metadata": {},
   "outputs": [],
   "source": [
    "#cd \"/scratch/project_2004883/Project 1/data/\""
   ]
  },
  {
   "cell_type": "code",
   "execution_count": 12,
   "metadata": {},
   "outputs": [],
   "source": [
    "#ls"
   ]
  },
  {
   "cell_type": "code",
   "execution_count": 13,
   "metadata": {},
   "outputs": [],
   "source": [
    "df = pd.read_csv('Multisine Waveforms.csv')"
   ]
  },
  {
   "cell_type": "code",
   "execution_count": 14,
   "metadata": {},
   "outputs": [
    {
     "data": {
      "text/plain": [
       "(750, 9)"
      ]
     },
     "execution_count": 14,
     "metadata": {},
     "output_type": "execute_result"
    }
   ],
   "source": [
    "df.shape "
   ]
  },
  {
   "cell_type": "code",
   "execution_count": 15,
   "metadata": {},
   "outputs": [
    {
     "data": {
      "text/html": [
       "<div>\n",
       "<style scoped>\n",
       "    .dataframe tbody tr th:only-of-type {\n",
       "        vertical-align: middle;\n",
       "    }\n",
       "\n",
       "    .dataframe tbody tr th {\n",
       "        vertical-align: top;\n",
       "    }\n",
       "\n",
       "    .dataframe thead th {\n",
       "        text-align: right;\n",
       "    }\n",
       "</style>\n",
       "<table border=\"1\" class=\"dataframe\">\n",
       "  <thead>\n",
       "    <tr style=\"text-align: right;\">\n",
       "      <th></th>\n",
       "      <th>ID</th>\n",
       "      <th>Tx100RSSId10cm</th>\n",
       "      <th>Tx100RSSId15cm</th>\n",
       "      <th>Tx100RSSId20cm</th>\n",
       "      <th>Tx75RSSId10cm</th>\n",
       "      <th>Tx75RSSId15cm</th>\n",
       "      <th>Tx75RSSId20cm</th>\n",
       "      <th>Tones</th>\n",
       "      <th>Indicator</th>\n",
       "    </tr>\n",
       "  </thead>\n",
       "  <tbody>\n",
       "    <tr>\n",
       "      <th>0</th>\n",
       "      <td>1</td>\n",
       "      <td>5.01</td>\n",
       "      <td>2.88</td>\n",
       "      <td>2.33</td>\n",
       "      <td>2.88</td>\n",
       "      <td>1.97</td>\n",
       "      <td>1.22</td>\n",
       "      <td>N2</td>\n",
       "      <td>0</td>\n",
       "    </tr>\n",
       "    <tr>\n",
       "      <th>1</th>\n",
       "      <td>2</td>\n",
       "      <td>5.01</td>\n",
       "      <td>3.03</td>\n",
       "      <td>2.22</td>\n",
       "      <td>2.88</td>\n",
       "      <td>1.74</td>\n",
       "      <td>1.22</td>\n",
       "      <td>N2</td>\n",
       "      <td>0</td>\n",
       "    </tr>\n",
       "    <tr>\n",
       "      <th>2</th>\n",
       "      <td>3</td>\n",
       "      <td>4.84</td>\n",
       "      <td>2.88</td>\n",
       "      <td>2.22</td>\n",
       "      <td>2.88</td>\n",
       "      <td>1.74</td>\n",
       "      <td>1.42</td>\n",
       "      <td>N2</td>\n",
       "      <td>0</td>\n",
       "    </tr>\n",
       "    <tr>\n",
       "      <th>3</th>\n",
       "      <td>4</td>\n",
       "      <td>5.01</td>\n",
       "      <td>3.03</td>\n",
       "      <td>2.08</td>\n",
       "      <td>3.03</td>\n",
       "      <td>2.08</td>\n",
       "      <td>1.42</td>\n",
       "      <td>N2</td>\n",
       "      <td>0</td>\n",
       "    </tr>\n",
       "    <tr>\n",
       "      <th>4</th>\n",
       "      <td>5</td>\n",
       "      <td>5.21</td>\n",
       "      <td>3.18</td>\n",
       "      <td>2.22</td>\n",
       "      <td>2.88</td>\n",
       "      <td>1.85</td>\n",
       "      <td>1.42</td>\n",
       "      <td>N2</td>\n",
       "      <td>0</td>\n",
       "    </tr>\n",
       "    <tr>\n",
       "      <th>...</th>\n",
       "      <td>...</td>\n",
       "      <td>...</td>\n",
       "      <td>...</td>\n",
       "      <td>...</td>\n",
       "      <td>...</td>\n",
       "      <td>...</td>\n",
       "      <td>...</td>\n",
       "      <td>...</td>\n",
       "      <td>...</td>\n",
       "    </tr>\n",
       "    <tr>\n",
       "      <th>745</th>\n",
       "      <td>746</td>\n",
       "      <td>0.91</td>\n",
       "      <td>0.46</td>\n",
       "      <td>0.24</td>\n",
       "      <td>0.37</td>\n",
       "      <td>0.37</td>\n",
       "      <td>0.13</td>\n",
       "      <td>N32</td>\n",
       "      <td>4</td>\n",
       "    </tr>\n",
       "    <tr>\n",
       "      <th>746</th>\n",
       "      <td>747</td>\n",
       "      <td>0.21</td>\n",
       "      <td>0.19</td>\n",
       "      <td>0.27</td>\n",
       "      <td>0.43</td>\n",
       "      <td>0.16</td>\n",
       "      <td>0.10</td>\n",
       "      <td>N32</td>\n",
       "      <td>4</td>\n",
       "    </tr>\n",
       "    <tr>\n",
       "      <th>747</th>\n",
       "      <td>748</td>\n",
       "      <td>0.31</td>\n",
       "      <td>0.24</td>\n",
       "      <td>0.16</td>\n",
       "      <td>0.12</td>\n",
       "      <td>0.10</td>\n",
       "      <td>0.22</td>\n",
       "      <td>N32</td>\n",
       "      <td>4</td>\n",
       "    </tr>\n",
       "    <tr>\n",
       "      <th>748</th>\n",
       "      <td>749</td>\n",
       "      <td>1.13</td>\n",
       "      <td>0.34</td>\n",
       "      <td>0.16</td>\n",
       "      <td>0.12</td>\n",
       "      <td>0.20</td>\n",
       "      <td>0.09</td>\n",
       "      <td>N32</td>\n",
       "      <td>4</td>\n",
       "    </tr>\n",
       "    <tr>\n",
       "      <th>749</th>\n",
       "      <td>750</td>\n",
       "      <td>1.13</td>\n",
       "      <td>0.30</td>\n",
       "      <td>0.18</td>\n",
       "      <td>0.43</td>\n",
       "      <td>0.30</td>\n",
       "      <td>0.24</td>\n",
       "      <td>N32</td>\n",
       "      <td>4</td>\n",
       "    </tr>\n",
       "  </tbody>\n",
       "</table>\n",
       "<p>750 rows × 9 columns</p>\n",
       "</div>"
      ],
      "text/plain": [
       "      ID  Tx100RSSId10cm   Tx100RSSId15cm    Tx100RSSId20cm   Tx75RSSId10cm   \\\n",
       "0      1             5.01             2.88              2.33            2.88   \n",
       "1      2             5.01             3.03              2.22            2.88   \n",
       "2      3             4.84             2.88              2.22            2.88   \n",
       "3      4             5.01             3.03              2.08            3.03   \n",
       "4      5             5.21             3.18              2.22            2.88   \n",
       "..   ...              ...              ...               ...             ...   \n",
       "745  746             0.91             0.46              0.24            0.37   \n",
       "746  747             0.21             0.19              0.27            0.43   \n",
       "747  748             0.31             0.24              0.16            0.12   \n",
       "748  749             1.13             0.34              0.16            0.12   \n",
       "749  750             1.13             0.30              0.18            0.43   \n",
       "\n",
       "     Tx75RSSId15cm    Tx75RSSId20cm  Tones  Indicator  \n",
       "0              1.97             1.22    N2          0  \n",
       "1              1.74             1.22    N2          0  \n",
       "2              1.74             1.42    N2          0  \n",
       "3              2.08             1.42    N2          0  \n",
       "4              1.85             1.42    N2          0  \n",
       "..              ...              ...   ...        ...  \n",
       "745            0.37             0.13   N32          4  \n",
       "746            0.16             0.10   N32          4  \n",
       "747            0.10             0.22   N32          4  \n",
       "748            0.20             0.09   N32          4  \n",
       "749            0.30             0.24   N32          4  \n",
       "\n",
       "[750 rows x 9 columns]"
      ]
     },
     "execution_count": 15,
     "metadata": {},
     "output_type": "execute_result"
    }
   ],
   "source": [
    "df"
   ]
  },
  {
   "cell_type": "code",
   "execution_count": 16,
   "metadata": {},
   "outputs": [
    {
     "name": "stdout",
     "output_type": "stream",
     "text": [
      "<class 'pandas.core.frame.DataFrame'>\n",
      "RangeIndex: 750 entries, 0 to 749\n",
      "Data columns (total 9 columns):\n",
      " #   Column            Non-Null Count  Dtype  \n",
      "---  ------            --------------  -----  \n",
      " 0   ID                750 non-null    int64  \n",
      " 1   Tx100RSSId10cm    750 non-null    float64\n",
      " 2   Tx100RSSId15cm    750 non-null    float64\n",
      " 3    Tx100RSSId20cm   750 non-null    float64\n",
      " 4   Tx75RSSId10cm     750 non-null    float64\n",
      " 5   Tx75RSSId15cm     750 non-null    float64\n",
      " 6    Tx75RSSId20cm    750 non-null    float64\n",
      " 7   Tones             750 non-null    object \n",
      " 8   Indicator         750 non-null    int64  \n",
      "dtypes: float64(6), int64(2), object(1)\n",
      "memory usage: 52.9+ KB\n"
     ]
    }
   ],
   "source": [
    "df.info()"
   ]
  },
  {
   "cell_type": "code",
   "execution_count": 17,
   "metadata": {},
   "outputs": [
    {
     "data": {
      "text/plain": [
       "0    150\n",
       "1    150\n",
       "2    150\n",
       "3    150\n",
       "4    150\n",
       "Name: Indicator, dtype: int64"
      ]
     },
     "execution_count": 17,
     "metadata": {},
     "output_type": "execute_result"
    }
   ],
   "source": [
    "df.Indicator.value_counts()"
   ]
  },
  {
   "cell_type": "code",
   "execution_count": 18,
   "metadata": {},
   "outputs": [],
   "source": [
    "df = df.drop(columns=['Tones'])"
   ]
  },
  {
   "cell_type": "code",
   "execution_count": 19,
   "metadata": {},
   "outputs": [],
   "source": [
    "# Min-max normalization\n",
    "numeric_features = df.dtypes[df.dtypes != 'object'].index\n",
    "df[numeric_features] = df[numeric_features].apply(\n",
    "    lambda x: (x - x.min()) / (x.max()-x.min()))\n",
    "# Fill empty values by 0\n",
    "df = df.fillna(0)"
   ]
  },
  {
   "cell_type": "code",
   "execution_count": 20,
   "metadata": {},
   "outputs": [],
   "source": [
    "labelencoder = LabelEncoder()\n",
    "df.iloc[:, -1] = labelencoder.fit_transform(df.iloc[:, -1])"
   ]
  },
  {
   "cell_type": "code",
   "execution_count": 21,
   "metadata": {},
   "outputs": [
    {
     "data": {
      "text/html": [
       "<div>\n",
       "<style scoped>\n",
       "    .dataframe tbody tr th:only-of-type {\n",
       "        vertical-align: middle;\n",
       "    }\n",
       "\n",
       "    .dataframe tbody tr th {\n",
       "        vertical-align: top;\n",
       "    }\n",
       "\n",
       "    .dataframe thead th {\n",
       "        text-align: right;\n",
       "    }\n",
       "</style>\n",
       "<table border=\"1\" class=\"dataframe\">\n",
       "  <thead>\n",
       "    <tr style=\"text-align: right;\">\n",
       "      <th></th>\n",
       "      <th>ID</th>\n",
       "      <th>Tx100RSSId10cm</th>\n",
       "      <th>Tx100RSSId15cm</th>\n",
       "      <th>Tx100RSSId20cm</th>\n",
       "      <th>Tx75RSSId10cm</th>\n",
       "      <th>Tx75RSSId15cm</th>\n",
       "      <th>Tx75RSSId20cm</th>\n",
       "      <th>Indicator</th>\n",
       "    </tr>\n",
       "  </thead>\n",
       "  <tbody>\n",
       "    <tr>\n",
       "      <th>0</th>\n",
       "      <td>0.000000</td>\n",
       "      <td>0.891344</td>\n",
       "      <td>0.900990</td>\n",
       "      <td>0.800000</td>\n",
       "      <td>0.863354</td>\n",
       "      <td>0.944724</td>\n",
       "      <td>0.733766</td>\n",
       "      <td>0</td>\n",
       "    </tr>\n",
       "    <tr>\n",
       "      <th>1</th>\n",
       "      <td>0.001335</td>\n",
       "      <td>0.891344</td>\n",
       "      <td>0.950495</td>\n",
       "      <td>0.760000</td>\n",
       "      <td>0.863354</td>\n",
       "      <td>0.829146</td>\n",
       "      <td>0.733766</td>\n",
       "      <td>0</td>\n",
       "    </tr>\n",
       "    <tr>\n",
       "      <th>2</th>\n",
       "      <td>0.002670</td>\n",
       "      <td>0.860037</td>\n",
       "      <td>0.900990</td>\n",
       "      <td>0.760000</td>\n",
       "      <td>0.863354</td>\n",
       "      <td>0.829146</td>\n",
       "      <td>0.863636</td>\n",
       "      <td>0</td>\n",
       "    </tr>\n",
       "    <tr>\n",
       "      <th>3</th>\n",
       "      <td>0.004005</td>\n",
       "      <td>0.891344</td>\n",
       "      <td>0.950495</td>\n",
       "      <td>0.709091</td>\n",
       "      <td>0.909938</td>\n",
       "      <td>1.000000</td>\n",
       "      <td>0.863636</td>\n",
       "      <td>0</td>\n",
       "    </tr>\n",
       "    <tr>\n",
       "      <th>4</th>\n",
       "      <td>0.005340</td>\n",
       "      <td>0.928177</td>\n",
       "      <td>1.000000</td>\n",
       "      <td>0.760000</td>\n",
       "      <td>0.863354</td>\n",
       "      <td>0.884422</td>\n",
       "      <td>0.863636</td>\n",
       "      <td>0</td>\n",
       "    </tr>\n",
       "    <tr>\n",
       "      <th>...</th>\n",
       "      <td>...</td>\n",
       "      <td>...</td>\n",
       "      <td>...</td>\n",
       "      <td>...</td>\n",
       "      <td>...</td>\n",
       "      <td>...</td>\n",
       "      <td>...</td>\n",
       "      <td>...</td>\n",
       "    </tr>\n",
       "    <tr>\n",
       "      <th>745</th>\n",
       "      <td>0.994660</td>\n",
       "      <td>0.136280</td>\n",
       "      <td>0.102310</td>\n",
       "      <td>0.040000</td>\n",
       "      <td>0.083851</td>\n",
       "      <td>0.140704</td>\n",
       "      <td>0.025974</td>\n",
       "      <td>4</td>\n",
       "    </tr>\n",
       "    <tr>\n",
       "      <th>746</th>\n",
       "      <td>0.995995</td>\n",
       "      <td>0.007366</td>\n",
       "      <td>0.013201</td>\n",
       "      <td>0.050909</td>\n",
       "      <td>0.102484</td>\n",
       "      <td>0.035176</td>\n",
       "      <td>0.006494</td>\n",
       "      <td>4</td>\n",
       "    </tr>\n",
       "    <tr>\n",
       "      <th>747</th>\n",
       "      <td>0.997330</td>\n",
       "      <td>0.025783</td>\n",
       "      <td>0.029703</td>\n",
       "      <td>0.010909</td>\n",
       "      <td>0.006211</td>\n",
       "      <td>0.005025</td>\n",
       "      <td>0.084416</td>\n",
       "      <td>4</td>\n",
       "    </tr>\n",
       "    <tr>\n",
       "      <th>748</th>\n",
       "      <td>0.998665</td>\n",
       "      <td>0.176796</td>\n",
       "      <td>0.062706</td>\n",
       "      <td>0.010909</td>\n",
       "      <td>0.006211</td>\n",
       "      <td>0.055276</td>\n",
       "      <td>0.000000</td>\n",
       "      <td>4</td>\n",
       "    </tr>\n",
       "    <tr>\n",
       "      <th>749</th>\n",
       "      <td>1.000000</td>\n",
       "      <td>0.176796</td>\n",
       "      <td>0.049505</td>\n",
       "      <td>0.018182</td>\n",
       "      <td>0.102484</td>\n",
       "      <td>0.105528</td>\n",
       "      <td>0.097403</td>\n",
       "      <td>4</td>\n",
       "    </tr>\n",
       "  </tbody>\n",
       "</table>\n",
       "<p>750 rows × 8 columns</p>\n",
       "</div>"
      ],
      "text/plain": [
       "           ID  Tx100RSSId10cm   Tx100RSSId15cm    Tx100RSSId20cm   \\\n",
       "0    0.000000         0.891344         0.900990          0.800000   \n",
       "1    0.001335         0.891344         0.950495          0.760000   \n",
       "2    0.002670         0.860037         0.900990          0.760000   \n",
       "3    0.004005         0.891344         0.950495          0.709091   \n",
       "4    0.005340         0.928177         1.000000          0.760000   \n",
       "..        ...              ...              ...               ...   \n",
       "745  0.994660         0.136280         0.102310          0.040000   \n",
       "746  0.995995         0.007366         0.013201          0.050909   \n",
       "747  0.997330         0.025783         0.029703          0.010909   \n",
       "748  0.998665         0.176796         0.062706          0.010909   \n",
       "749  1.000000         0.176796         0.049505          0.018182   \n",
       "\n",
       "     Tx75RSSId10cm   Tx75RSSId15cm    Tx75RSSId20cm   Indicator  \n",
       "0          0.863354        0.944724         0.733766          0  \n",
       "1          0.863354        0.829146         0.733766          0  \n",
       "2          0.863354        0.829146         0.863636          0  \n",
       "3          0.909938        1.000000         0.863636          0  \n",
       "4          0.863354        0.884422         0.863636          0  \n",
       "..              ...             ...              ...        ...  \n",
       "745        0.083851        0.140704         0.025974          4  \n",
       "746        0.102484        0.035176         0.006494          4  \n",
       "747        0.006211        0.005025         0.084416          4  \n",
       "748        0.006211        0.055276         0.000000          4  \n",
       "749        0.102484        0.105528         0.097403          4  \n",
       "\n",
       "[750 rows x 8 columns]"
      ]
     },
     "execution_count": 21,
     "metadata": {},
     "output_type": "execute_result"
    }
   ],
   "source": [
    "df"
   ]
  },
  {
   "cell_type": "code",
   "execution_count": 22,
   "metadata": {},
   "outputs": [
    {
     "data": {
      "text/plain": [
       "(750, 8)"
      ]
     },
     "execution_count": 22,
     "metadata": {},
     "output_type": "execute_result"
    }
   ],
   "source": [
    "df.shape"
   ]
  },
  {
   "cell_type": "code",
   "execution_count": 23,
   "metadata": {},
   "outputs": [
    {
     "data": {
      "text/plain": [
       "0    150\n",
       "1    150\n",
       "2    150\n",
       "3    150\n",
       "4    150\n",
       "Name: Indicator, dtype: int64"
      ]
     },
     "execution_count": 23,
     "metadata": {},
     "output_type": "execute_result"
    }
   ],
   "source": [
    "df.Indicator.value_counts()"
   ]
  },
  {
   "cell_type": "markdown",
   "metadata": {},
   "source": [
    "# Graphs"
   ]
  },
  {
   "cell_type": "code",
   "execution_count": 24,
   "metadata": {},
   "outputs": [],
   "source": [
    "from sklearn import preprocessing\n",
    "le = preprocessing.LabelEncoder()\n",
    "from sklearn.pipeline import Pipeline\n",
    "from sklearn.model_selection import StratifiedKFold\n",
    "from sklearn.model_selection import cross_val_score\n",
    "from sklearn.preprocessing import StandardScaler\n",
    "from sklearn.model_selection import learning_curve\n",
    "\n",
    "def learn_curve(X,y,c,m):\n",
    "    \n",
    "    le = preprocessing.LabelEncoder()\n",
    "    sc = StandardScaler() \n",
    "    y = le.fit_transform(y)\n",
    "\n",
    "    model = m\n",
    "\n",
    "    lr = Pipeline(steps=(['scaler',sc], ['classifier',model]))\n",
    "    \n",
    "    cv = StratifiedKFold(n_splits=5,random_state=11,shuffle=True) \n",
    "    cv_scores = cross_val_score(lr,X,y,scoring=\"accuracy\",cv=cv) \n",
    "    \n",
    "    lr.fit(X,y) \n",
    "\n",
    "    train_score = lr.score(X,y) \n",
    "    \n",
    "    train_size,train_scores,test_scores = learning_curve(estimator=lr,X=X,y=y,cv=cv,scoring=\"accuracy\",random_state=11)\n",
    "    train_scores = 1-np.mean(train_scores,axis=1) \n",
    "    test_scores = 1-np.mean(test_scores,axis=1) \n",
    "    lc = pd.DataFrame({\"Training_size\":train_size,\"Training_loss\":train_scores,\"Validation_loss\":test_scores}).melt(id_vars=\"Training_size\")\n",
    "    \n",
    "    return {\"cv_scores\":cv_scores, \"train_score\":train_score, \"learning_curve\":lc}"
   ]
  },
  {
   "cell_type": "code",
   "execution_count": 25,
   "metadata": {},
   "outputs": [],
   "source": [
    "def print_graph (lc):\n",
    "  \n",
    "    print(f'Cross Validation Accuracies:\\n{\"-\"*25}\\n{list(lc[\"cv_scores\"])}\\n\\n\\\n",
    "    Mean Cross Validation Accuracy:\\n{\"-\"*25}\\n{np.mean(lc[\"cv_scores\"])}\\n\\n\\\n",
    "    Standard Deviation of Cross Validation Accuracy:\\n{\"-\"*25}\\n{np.std(lc[\"cv_scores\"])}\\n\\n\\\n",
    "    Training Accuracy:\\n{\"-\"*15}\\n{lc[\"train_score\"]}\\n\\n')\n",
    "\n",
    "    sns.lineplot(data=lc[\"learning_curve\"],x=\"Training_size\",y=\"value\",hue=\"variable\")\n",
    "    plt.title(\"Learning Curve of Good Fit Model\")\n",
    "    plt.ylabel(\"Misclassification Rate/Loss\");"
   ]
  },
  {
   "cell_type": "code",
   "execution_count": 26,
   "metadata": {},
   "outputs": [],
   "source": [
    "X = df.drop(['Indicator'],axis=1).values \n",
    "y = df.iloc[:, -1].values.reshape(-1,1)\n",
    "y=np.ravel(y)\n",
    "X_train, X_test, y_train, y_test = train_test_split(X,y, train_size = 0.5, test_size = 0.5, random_state = 0,stratify = y)"
   ]
  },
  {
   "cell_type": "markdown",
   "metadata": {},
   "source": [
    "# SVC"
   ]
  },
  {
   "cell_type": "code",
   "execution_count": 29,
   "metadata": {},
   "outputs": [
    {
     "name": "stdout",
     "output_type": "stream",
     "text": [
      "Accuracy of SVC: 0.9973333333333333\n",
      "Precision of SVC: 0.9973684210526316\n",
      "Recall of SVC: 0.9973333333333333\n",
      "F1-score of SVC: 0.9973332148095471\n",
      "              precision    recall  f1-score   support\n",
      "\n",
      "           0       1.00      1.00      1.00        75\n",
      "           1       1.00      1.00      1.00        75\n",
      "           2       1.00      1.00      1.00        75\n",
      "           3       0.99      1.00      0.99        75\n",
      "           4       1.00      0.99      0.99        75\n",
      "\n",
      "    accuracy                           1.00       375\n",
      "   macro avg       1.00      1.00      1.00       375\n",
      "weighted avg       1.00      1.00      1.00       375\n",
      "\n",
      "Running time (training): 0.0020 seconds\n",
      "Total prediction time: 0.0035 seconds\n",
      "Average prediction time (per instance): 0.000065 seconds\n",
      "Prediction times for each instance: [0.0, 0.0, 0.0, 0.0009968280792236328, 0.0, 0.0, 0.0, 0.0, 0.0, 0.0, 0.0, 0.0, 0.0, 0.0, 0.0, 0.0009963512420654297, 0.0, 0.0, 0.0, 0.0, 0.0, 0.0, 0.0, 0.0, 0.0, 0.0, 0.0, 0.0, 0.0, 0.0, 0.0009989738464355469, 0.0, 0.0, 0.0, 0.0, 0.0, 0.0, 0.0, 0.0, 0.0, 0.0, 0.0, 0.0, 0.0, 0.0, 0.0, 0.0010035037994384766, 0.0, 0.0, 0.0, 0.0, 0.0, 0.0, 0.0, 0.0, 0.0, 0.0, 0.0, 0.0, 0.0, 0.0, 0.0, 0.0010089874267578125, 0.0, 0.0, 0.0, 0.0, 0.0, 0.0, 0.0, 0.0, 0.0, 0.0, 0.0, 0.0, 0.0, 0.0, 0.0010006427764892578, 0.0, 0.0, 0.0, 0.0, 0.0, 0.0, 0.0, 0.0, 0.0, 0.0, 0.0, 0.0, 0.0, 0.0, 0.0009784698486328125, 0.0, 0.0, 0.0, 0.0, 0.0, 0.0, 0.0, 0.0, 0.0, 0.0, 0.0, 0.0, 0.0009949207305908203, 0.0, 0.0, 0.0, 0.0, 0.0, 0.0, 0.0, 0.0, 0.0, 0.0, 0.0, 0.0, 0.0, 0.0, 0.000997781753540039, 0.0, 0.0, 0.0, 0.0, 0.0, 0.0, 0.0, 0.0, 0.0, 0.0, 0.0, 0.0, 0.0, 0.0, 0.0009965896606445312, 0.0, 0.0, 0.0, 0.0, 0.0, 0.0, 0.0, 0.0, 0.0, 0.0, 0.0, 0.0, 0.0, 0.0, 0.000997304916381836, 0.0, 0.0, 0.0, 0.0, 0.0, 0.0, 0.0, 0.0, 0.0, 0.0, 0.0, 0.0, 0.0, 0.0, 0.000997304916381836, 0.0, 0.0, 0.0, 0.0, 0.0, 0.0, 0.0, 0.0, 0.0, 0.0, 0.0, 0.0, 0.0, 0.0009989738464355469, 0.0, 0.0, 0.0, 0.0, 0.0, 0.0, 0.0, 0.0, 0.0, 0.0, 0.0, 0.0, 0.0, 0.0, 0.0009963512420654297, 6.151199340820312e-05, 0.0, 0.0, 0.0, 0.0, 0.0, 0.0, 0.0005056858062744141, 0.0, 0.0, 0.0, 0.0, 0.0, 0.0, 0.0, 0.0, 0.0, 0.0, 0.0, 0.0, 0.0, 0.0, 0.0010013580322265625, 0.0, 0.0, 0.0, 0.0, 0.0, 0.0, 0.0, 0.0, 0.0, 0.0, 0.0, 0.0, 0.0, 0.000997781753540039, 0.0, 0.0, 0.0, 0.0, 0.0, 0.0, 0.0, 0.0, 0.0, 0.0, 0.0, 0.0, 0.0, 0.0, 0.0009965896606445312, 0.0, 0.0, 0.0, 0.0, 0.0, 0.0, 0.0, 0.0, 0.0, 0.0, 0.0, 0.0, 0.0, 0.0, 0.0, 0.0, 0.0, 0.0, 0.0, 0.0, 0.0, 0.0, 0.0, 0.0, 0.0, 0.0, 0.0, 0.0, 0.0, 0.0, 0.000997304916381836, 0.0, 0.0, 0.0, 0.0, 0.0, 0.0, 0.0, 0.0, 0.0, 0.0, 0.0, 0.0, 0.0, 0.0, 0.0009970664978027344, 0.0, 0.0, 0.0, 0.0, 0.0, 0.0, 0.0, 0.0, 0.0, 0.0, 0.0, 0.0, 0.0, 0.0, 0.0009975433349609375, 0.0, 0.0, 0.0, 0.0, 0.0, 0.0, 0.0, 0.0, 0.0, 0.0, 0.0, 0.0, 0.0, 0.000997304916381836, 0.0, 0.0, 0.0, 0.0, 0.0, 0.0, 0.0, 0.0, 0.0, 0.0, 0.0, 0.0, 0.0, 0.0, 0.000997304916381836, 0.0, 0.0, 0.0, 0.0, 0.0, 0.0, 0.0, 0.0, 0.0, 0.0, 0.0, 0.0, 0.0, 0.0, 0.000997304916381836, 0.0, 0.0, 0.0, 0.0, 0.0, 0.0, 0.0, 0.0, 0.0, 0.0, 0.0, 0.0, 0.0, 0.0, 0.0009975433349609375, 0.0, 0.0, 0.0, 0.0, 0.0, 0.0, 0.0, 0.0]\n"
     ]
    }
   ],
   "source": [
    "from sklearn.svm import SVC\n",
    "\n",
    "# Start timer for running time (model training)\n",
    "start_train_time = time.time()\n",
    "\n",
    "# Model training\n",
    "SVC = SVC()\n",
    "SVC.fit(X_train, y_train)\n",
    "\n",
    "# End timer for running time (model training)\n",
    "end_train_time = time.time()\n",
    "running_time = end_train_time - start_train_time\n",
    "\n",
    "# Measure total prediction time for all instances\n",
    "start_predict_time = time.time()\n",
    "y_predict = SVC.predict(X_test)\n",
    "end_predict_time = time.time()\n",
    "prediction_time = end_predict_time - start_predict_time\n",
    "\n",
    "# Measure time taken for each individual prediction (prediction through time)\n",
    "individual_prediction_times = []\n",
    "for sample in X_test:\n",
    "    start_time = time.time()\n",
    "    SVC.predict([sample])  # Predicting a single sample, note the input must be 2D (list of list)\n",
    "    end_time = time.time()\n",
    "    individual_prediction_times.append(end_time - start_time)\n",
    "\n",
    "# Model accuracy\n",
    "SVC_score = SVC.score(X_test, y_test)\n",
    "y_true = y_test\n",
    "\n",
    "# Print metrics\n",
    "print('Accuracy of SVC: ' + str(SVC_score))\n",
    "precision, recall, fscore, _ = precision_recall_fscore_support(y_true, y_predict, average='weighted')\n",
    "print('Precision of SVC: ' + str(precision))\n",
    "print('Recall of SVC: ' + str(recall))\n",
    "print('F1-score of SVC: ' + str(fscore))\n",
    "print(classification_report(y_true, y_predict))\n",
    "\n",
    "# Calculate average prediction time for each instance\n",
    "average_prediction_time = sum(individual_prediction_times) / len(individual_prediction_times)\n",
    "\n",
    "# Print timing results\n",
    "print('Running time (training): {:.4f} seconds'.format(running_time))\n",
    "print('Total prediction time: {:.4f} seconds'.format(prediction_time))\n",
    "print('Average prediction time (per instance): {:.6f} seconds'.format(average_prediction_time))\n",
    "print('Prediction times for each instance: {}'.format(individual_prediction_times))"
   ]
  },
  {
   "cell_type": "code",
   "execution_count": 31,
   "metadata": {},
   "outputs": [
    {
     "name": "stdout",
     "output_type": "stream",
     "text": [
      "Accuracy of SVC: 1.0\n",
      "Precision of SVC: 1.0\n",
      "Recall of SVC: 1.0\n",
      "F1-score of SVC: 1.0\n",
      "              precision    recall  f1-score   support\n",
      "\n",
      "           0       1.00      1.00      1.00        75\n",
      "           1       1.00      1.00      1.00        75\n",
      "           2       1.00      1.00      1.00        75\n",
      "           3       1.00      1.00      1.00        75\n",
      "           4       1.00      1.00      1.00        75\n",
      "\n",
      "    accuracy                           1.00       375\n",
      "   macro avg       1.00      1.00      1.00       375\n",
      "weighted avg       1.00      1.00      1.00       375\n",
      "\n",
      "Running time (training): 0.0010 seconds\n",
      "Total prediction time: 0.0020 seconds\n",
      "Average prediction time (per instance): 0.000061 seconds\n",
      "Prediction times for each instance: [0.0, 0.0, 0.0, 0.0, 0.0, 0.0, 0.0010142326354980469, 0.0, 0.0, 0.0, 0.0, 0.0, 0.0, 0.0, 0.0, 0.0, 0.0, 0.0, 0.0, 0.0, 0.0, 0.0, 0.000980377197265625, 0.0, 0.0, 0.0, 0.0, 0.0, 0.0, 0.0, 0.0, 0.0, 0.0, 0.0, 0.0, 0.0, 0.0, 0.0, 0.0, 0.0010097026824951172, 0.0, 0.0, 0.0, 0.0, 0.0, 0.0, 0.0, 0.0, 0.0, 0.0, 0.0, 0.0, 0.0, 0.0, 0.0, 0.0009849071502685547, 0.0, 0.0, 0.0, 0.0, 0.0, 0.0, 0.0, 0.0, 0.0, 0.0, 0.0, 0.0, 0.0010228157043457031, 0.0, 0.0, 0.0, 0.0, 0.0, 0.0, 0.0, 0.0, 0.0, 0.0, 0.0, 0.0, 0.0, 0.0, 0.0, 0.0, 0.0009746551513671875, 0.0, 0.0, 0.0, 0.0, 0.0, 0.0, 0.0, 0.0, 0.0, 0.0, 0.0, 0.0, 0.0, 0.0, 0.0, 0.0010066032409667969, 0.0, 0.0, 0.0, 0.0, 0.0, 0.0, 0.0, 0.0, 0.0, 0.0, 0.0, 0.0, 0.0, 0.0, 0.0, 0.0, 0.0, 0.0010159015655517578, 0.0, 0.0, 0.0, 0.0, 0.0, 0.0, 0.0, 0.0, 0.0, 0.0, 0.0, 0.0, 0.0, 0.0, 0.0, 0.0009891986846923828, 0.0, 0.0, 0.0, 0.0, 0.0, 0.0, 0.0, 0.0, 0.0, 0.0, 0.0, 0.0, 0.0, 0.0, 0.0, 0.0, 0.0009739398956298828, 0.0, 0.0, 0.0, 0.0, 0.0, 0.0, 0.0, 0.0, 0.0, 0.0, 0.0, 0.0, 0.0, 0.0009982585906982422, 0.0, 0.0, 0.0, 0.0, 0.0, 0.0, 0.0, 0.0, 0.0, 0.0, 0.0, 0.0, 0.0, 0.0, 0.0, 0.0, 0.000997304916381836, 0.0, 0.0, 0.0, 0.0, 0.0, 0.0, 0.0, 0.0, 0.0, 0.0, 0.0, 0.0, 0.0, 0.0, 0.0, 0.000997304916381836, 0.0, 0.0, 0.0, 0.0, 0.0, 0.0, 0.0, 0.0, 0.0, 0.0, 0.0, 0.0, 0.0, 0.0, 0.0, 0.0009970664978027344, 0.0, 0.0, 0.0, 0.0, 0.0, 0.0, 0.0, 0.0, 0.0, 0.0, 0.0, 0.0, 0.0, 0.0, 0.0, 0.0009975433349609375, 0.0, 0.0, 0.0, 0.0, 0.0, 0.0, 0.0, 0.0, 0.0, 0.0, 0.0, 0.0, 0.0, 0.0, 0.0, 0.0, 0.000997304916381836, 0.0, 0.0, 0.0, 0.0, 0.0, 0.0, 0.0, 0.0, 0.0, 0.0, 0.0, 0.0, 0.0, 0.0, 0.0, 0.000997304916381836, 0.0, 0.0, 0.0, 0.0, 0.0, 0.0, 0.0, 0.0, 0.0, 0.0, 0.0, 0.0, 0.0, 0.0, 0.0, 0.000997304916381836, 0.0, 0.0, 0.0, 0.0, 0.0, 0.0, 0.0, 0.0, 0.0, 0.0, 0.0, 0.0, 0.0, 0.0, 0.0, 0.0009970664978027344, 0.0, 0.0, 0.0, 0.0, 0.0, 0.0, 0.0, 0.0, 0.0, 0.0, 0.0, 0.0, 0.0, 0.0, 0.0, 0.000997781753540039, 0.0, 0.0, 0.0, 0.0, 0.0, 0.0, 0.0, 0.0, 0.0, 0.0, 0.0, 0.0, 0.0, 0.0, 0.0, 0.0, 0.0009970664978027344, 0.0, 0.0, 0.0, 0.0, 0.0, 0.0, 0.0, 0.0, 0.0, 0.0, 0.0, 0.0, 0.0, 0.0, 0.0, 0.000997304916381836, 0.0, 0.0, 0.0, 0.0, 0.0, 0.0, 0.0, 0.0, 0.0, 0.0, 0.0, 0.0, 0.0, 0.0, 0.0, 0.0009975433349609375, 0.0, 0.0, 0.0, 0.0, 0.0, 0.0, 0.0, 0.0, 0.0, 0.0, 0.0, 0.0, 0.0]\n"
     ]
    }
   ],
   "source": [
    "from sklearn.svm import SVC\n",
    "\n",
    "# Start timer for running time (model training)\n",
    "start_train_time = time.time()\n",
    "\n",
    "# Model training\n",
    "SVC = SVC(kernel='rbf', C=25, random_state=1, gamma=0.2)\n",
    "SVC.fit(X_train, y_train)\n",
    "\n",
    "# End timer for running time (model training)\n",
    "end_train_time = time.time()\n",
    "running_time = end_train_time - start_train_time\n",
    "\n",
    "# Measure total prediction time for all instances\n",
    "start_predict_time = time.time()\n",
    "y_predict = SVC.predict(X_test)\n",
    "end_predict_time = time.time()\n",
    "prediction_time = end_predict_time - start_predict_time\n",
    "\n",
    "# Measure time taken for each individual prediction (prediction through time)\n",
    "individual_prediction_times = []\n",
    "for sample in X_test:\n",
    "    start_time = time.time()\n",
    "    SVC.predict([sample])  # Predicting a single sample, note the input must be 2D (list of list)\n",
    "    end_time = time.time()\n",
    "    individual_prediction_times.append(end_time - start_time)\n",
    "\n",
    "# Model accuracy\n",
    "SVC_score = SVC.score(X_test, y_test)\n",
    "y_true = y_test\n",
    "\n",
    "# Print metrics\n",
    "print('Accuracy of SVC: ' + str(SVC_score))\n",
    "precision, recall, fscore, _ = precision_recall_fscore_support(y_true, y_predict, average='weighted')\n",
    "print('Precision of SVC: ' + str(precision))\n",
    "print('Recall of SVC: ' + str(recall))\n",
    "print('F1-score of SVC: ' + str(fscore))\n",
    "print(classification_report(y_true, y_predict))\n",
    "\n",
    "# Calculate average prediction time for each instance\n",
    "average_prediction_time = sum(individual_prediction_times) / len(individual_prediction_times)\n",
    "\n",
    "# Print timing results\n",
    "print('Running time (training): {:.4f} seconds'.format(running_time))\n",
    "print('Total prediction time: {:.4f} seconds'.format(prediction_time))\n",
    "print('Average prediction time (per instance): {:.6f} seconds'.format(average_prediction_time))\n",
    "print('Prediction times for each instance: {}'.format(individual_prediction_times))"
   ]
  },
  {
   "cell_type": "code",
   "execution_count": 32,
   "metadata": {},
   "outputs": [
    {
     "name": "stdout",
     "output_type": "stream",
     "text": [
      "Cross Validation Accuracies:\n",
      "-------------------------\n",
      "[1.0, 1.0, 1.0, 1.0, 0.9866666666666667]\n",
      "\n",
      "    Mean Cross Validation Accuracy:\n",
      "-------------------------\n",
      "0.9973333333333333\n",
      "\n",
      "    Standard Deviation of Cross Validation Accuracy:\n",
      "-------------------------\n",
      "0.005333333333333324\n",
      "\n",
      "    Training Accuracy:\n",
      "---------------\n",
      "1.0\n",
      "\n",
      "\n"
     ]
    },
    {
     "data": {
      "image/png": "[encoded data removed]",
      "text/plain": [
       "<Figure size 432x288 with 1 Axes>"
      ]
     },
     "metadata": {
      "needs_background": "light"
     },
     "output_type": "display_data"
    }
   ],
   "source": [
    "SVC_train=SVC.predict(X_train)\n",
    "SVC_test=SVC.predict(X_test)\n",
    "lc = learn_curve(X_train,y_train,1,SVC) \n",
    "print_graph(lc)"
   ]
  },
  {
   "cell_type": "code",
   "execution_count": 36,
   "metadata": {},
   "outputs": [
    {
     "name": "stderr",
     "output_type": "stream",
     "text": [
      "The PostScript backend does not support transparency; partially transparent artists will be rendered opaque.\n",
      "The PostScript backend does not support transparency; partially transparent artists will be rendered opaque.\n"
     ]
    },
    {
     "data": {
      "image/png": "[encoded data removed]",
      "text/plain": [
       "<Figure size 576x432 with 1 Axes>"
      ]
     },
     "metadata": {
      "needs_background": "light"
     },
     "output_type": "display_data"
    }
   ],
   "source": [
    "def print_graph(lc):\n",
    "    import matplotlib.pyplot as plt\n",
    "    import numpy as np\n",
    "    from matplotlib import rcParams\n",
    "\n",
    "    # Set font style to sans-serif (e.g., Arial)\n",
    "    rcParams['font.family'] = 'sans-serif'\n",
    "    rcParams['font.sans-serif'] = ['Arial']\n",
    "\n",
    "    # Extract learning curve data\n",
    "    learning_curve_data = lc[\"learning_curve\"]\n",
    "    train_data = learning_curve_data[learning_curve_data[\"variable\"] == \"Training_loss\"]\n",
    "    val_data = learning_curve_data[learning_curve_data[\"variable\"] == \"Validation_loss\"]\n",
    "\n",
    "    # Plotting\n",
    "    plt.figure(figsize=(8, 6))\n",
    "\n",
    "    # Plot training and validation errors with red and green lines\n",
    "    plt.plot(train_data[\"Training_size\"], train_data[\"value\"], 'r-s', label='Training error')\n",
    "    plt.plot(val_data[\"Training_size\"], val_data[\"value\"], 'g-o', label='Cross-validation error')\n",
    "\n",
    "    # Customize axis limits\n",
    "    plt.ylim(-0.0001, 0.006)  # Set y-axis from -0.01 to 0.006\n",
    "    plt.xlim(train_data[\"Training_size\"].min(), 310)  # Extend x-axis to 310\n",
    "\n",
    "    # Customize axis labels and title\n",
    "    plt.xlabel('Training size', fontsize=14)\n",
    "    plt.ylabel('Misclassification Rate/Loss', fontsize=14)\n",
    "    plt.legend(fontsize=12)\n",
    "    plt.title('Learning Curve of a Overfitting Model', fontsize=14)\n",
    "    plt.grid(True)\n",
    "\n",
    "    # Save the plot in multiple formats\n",
    "    plt.savefig('SVC.pdf', format='pdf', dpi=300)  # Save as PDF\n",
    "    plt.savefig('SVC.eps', format='eps', dpi=300)  # Save as EPS\n",
    "    plt.savefig('SVC.svg', format='svg')  # Save as SVG\n",
    "    plt.savefig('SVC.png', format='png', dpi=300)  # Save as PNG\n",
    "\n",
    "    # Display plot\n",
    "    plt.tight_layout()\n",
    "    plt.show()\n",
    "\n",
    "# Example of calling this function after generating `lc`\n",
    "print_graph(lc)\n",
    "\n"
   ]
  }
 ],
 "metadata": {
  "anaconda-cloud": {},
  "kernelspec": {
   "display_name": "Python 3",
   "language": "python",
   "name": "python3"
  },
  "language_info": {
   "codemirror_mode": {
    "name": "ipython",
    "version": 3
   },
   "file_extension": ".py",
   "mimetype": "text/x-python",
   "name": "python",
   "nbconvert_exporter": "python",
   "pygments_lexer": "ipython3",
   "version": "3.8.8"
  }
 },
 "nbformat": 4,
 "nbformat_minor": 2
}
